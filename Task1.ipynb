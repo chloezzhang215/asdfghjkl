{
 "cells": [
  {
   "cell_type": "code",
   "execution_count": 91,
   "id": "b6e58eb1",
   "metadata": {},
   "outputs": [],
   "source": [
    "import pandas as pd\n",
    "import statsmodels.formula.api as smf\n",
    "from statsmodels.stats.outliers_influence import variance_inflation_factor"
   ]
  },
  {
   "cell_type": "code",
   "execution_count": 92,
   "id": "7867ec59",
   "metadata": {},
   "outputs": [],
   "source": [
    "price_ad = pd.DataFrame(pd.read_csv('delta_price_symbols_A_to_D.csv'))\n",
    "price_eh = pd.DataFrame(pd.read_csv('delta_price_symbols_E_to_H.csv'))\n",
    "price_x = pd.DataFrame(pd.read_csv('delta_price_symbol_X.csv'))"
   ]
  },
  {
   "cell_type": "code",
   "execution_count": 93,
   "id": "5f90c8cd",
   "metadata": {},
   "outputs": [],
   "source": [
    "price_eh = price_eh[['delta_price_E','delta_price_F','delta_price_G','delta_price_H']]\n",
    "price_x = price_x[['delta_price_X']]"
   ]
  },
  {
   "cell_type": "code",
   "execution_count": 94,
   "id": "01cd366c",
   "metadata": {
    "scrolled": true
   },
   "outputs": [],
   "source": [
    "frames = [price_ad,price_eh,price_x]\n",
    "df_merge = pd.concat(frames,axis=1).drop(columns = ['Unnamed: 0'])"
   ]
  },
  {
   "cell_type": "code",
   "execution_count": 95,
   "id": "46c2651b",
   "metadata": {},
   "outputs": [
    {
     "data": {
      "text/html": [
       "<table class=\"simpletable\">\n",
       "<caption>OLS Regression Results</caption>\n",
       "<tr>\n",
       "  <th>Dep. Variable:</th>      <td>delta_price_X</td>  <th>  R-squared:         </th> <td>   0.249</td>\n",
       "</tr>\n",
       "<tr>\n",
       "  <th>Model:</th>                   <td>OLS</td>       <th>  Adj. R-squared:    </th> <td>   0.197</td>\n",
       "</tr>\n",
       "<tr>\n",
       "  <th>Method:</th>             <td>Least Squares</td>  <th>  F-statistic:       </th> <td>   4.799</td>\n",
       "</tr>\n",
       "<tr>\n",
       "  <th>Date:</th>             <td>Sat, 11 Dec 2021</td> <th>  Prob (F-statistic):</th> <td>4.07e-05</td>\n",
       "</tr>\n",
       "<tr>\n",
       "  <th>Time:</th>                 <td>19:23:34</td>     <th>  Log-Likelihood:    </th> <td>  79.066</td>\n",
       "</tr>\n",
       "<tr>\n",
       "  <th>No. Observations:</th>      <td>   125</td>      <th>  AIC:               </th> <td>  -140.1</td>\n",
       "</tr>\n",
       "<tr>\n",
       "  <th>Df Residuals:</th>          <td>   116</td>      <th>  BIC:               </th> <td>  -114.7</td>\n",
       "</tr>\n",
       "<tr>\n",
       "  <th>Df Model:</th>              <td>     8</td>      <th>                     </th>     <td> </td>   \n",
       "</tr>\n",
       "<tr>\n",
       "  <th>Covariance Type:</th>      <td>nonrobust</td>    <th>                     </th>     <td> </td>   \n",
       "</tr>\n",
       "</table>\n",
       "<table class=\"simpletable\">\n",
       "<tr>\n",
       "        <td></td>           <th>coef</th>     <th>std err</th>      <th>t</th>      <th>P>|t|</th>  <th>[0.025</th>    <th>0.975]</th>  \n",
       "</tr>\n",
       "<tr>\n",
       "  <th>Intercept</th>     <td>    0.0049</td> <td>    0.012</td> <td>    0.410</td> <td> 0.682</td> <td>   -0.019</td> <td>    0.029</td>\n",
       "</tr>\n",
       "<tr>\n",
       "  <th>delta_price_A</th> <td>    8.2711</td> <td>    5.993</td> <td>    1.380</td> <td> 0.170</td> <td>   -3.600</td> <td>   20.142</td>\n",
       "</tr>\n",
       "<tr>\n",
       "  <th>delta_price_B</th> <td>   -0.2356</td> <td>    7.329</td> <td>   -0.032</td> <td> 0.974</td> <td>  -14.752</td> <td>   14.281</td>\n",
       "</tr>\n",
       "<tr>\n",
       "  <th>delta_price_C</th> <td>    9.2752</td> <td>    6.302</td> <td>    1.472</td> <td> 0.144</td> <td>   -3.206</td> <td>   21.757</td>\n",
       "</tr>\n",
       "<tr>\n",
       "  <th>delta_price_D</th> <td>   -9.1387</td> <td>    7.365</td> <td>   -1.241</td> <td> 0.217</td> <td>  -23.725</td> <td>    5.448</td>\n",
       "</tr>\n",
       "<tr>\n",
       "  <th>delta_price_E</th> <td>    2.4559</td> <td>    3.349</td> <td>    0.733</td> <td> 0.465</td> <td>   -4.178</td> <td>    9.090</td>\n",
       "</tr>\n",
       "<tr>\n",
       "  <th>delta_price_F</th> <td>   -2.0187</td> <td>    5.081</td> <td>   -0.397</td> <td> 0.692</td> <td>  -12.082</td> <td>    8.045</td>\n",
       "</tr>\n",
       "<tr>\n",
       "  <th>delta_price_G</th> <td>  -17.4871</td> <td>    4.205</td> <td>   -4.159</td> <td> 0.000</td> <td>  -25.815</td> <td>   -9.159</td>\n",
       "</tr>\n",
       "<tr>\n",
       "  <th>delta_price_H</th> <td>   13.7601</td> <td>    5.077</td> <td>    2.710</td> <td> 0.008</td> <td>    3.705</td> <td>   23.816</td>\n",
       "</tr>\n",
       "</table>\n",
       "<table class=\"simpletable\">\n",
       "<tr>\n",
       "  <th>Omnibus:</th>       <td>29.438</td> <th>  Durbin-Watson:     </th> <td>   2.704</td>\n",
       "</tr>\n",
       "<tr>\n",
       "  <th>Prob(Omnibus):</th> <td> 0.000</td> <th>  Jarque-Bera (JB):  </th> <td>  68.707</td>\n",
       "</tr>\n",
       "<tr>\n",
       "  <th>Skew:</th>          <td> 0.920</td> <th>  Prob(JB):          </th> <td>1.20e-15</td>\n",
       "</tr>\n",
       "<tr>\n",
       "  <th>Kurtosis:</th>      <td> 6.131</td> <th>  Cond. No.          </th> <td>    969.</td>\n",
       "</tr>\n",
       "</table><br/><br/>Notes:<br/>[1] Standard Errors assume that the covariance matrix of the errors is correctly specified."
      ],
      "text/plain": [
       "<class 'statsmodels.iolib.summary.Summary'>\n",
       "\"\"\"\n",
       "                            OLS Regression Results                            \n",
       "==============================================================================\n",
       "Dep. Variable:          delta_price_X   R-squared:                       0.249\n",
       "Model:                            OLS   Adj. R-squared:                  0.197\n",
       "Method:                 Least Squares   F-statistic:                     4.799\n",
       "Date:                Sat, 11 Dec 2021   Prob (F-statistic):           4.07e-05\n",
       "Time:                        19:23:34   Log-Likelihood:                 79.066\n",
       "No. Observations:                 125   AIC:                            -140.1\n",
       "Df Residuals:                     116   BIC:                            -114.7\n",
       "Df Model:                           8                                         \n",
       "Covariance Type:            nonrobust                                         \n",
       "=================================================================================\n",
       "                    coef    std err          t      P>|t|      [0.025      0.975]\n",
       "---------------------------------------------------------------------------------\n",
       "Intercept         0.0049      0.012      0.410      0.682      -0.019       0.029\n",
       "delta_price_A     8.2711      5.993      1.380      0.170      -3.600      20.142\n",
       "delta_price_B    -0.2356      7.329     -0.032      0.974     -14.752      14.281\n",
       "delta_price_C     9.2752      6.302      1.472      0.144      -3.206      21.757\n",
       "delta_price_D    -9.1387      7.365     -1.241      0.217     -23.725       5.448\n",
       "delta_price_E     2.4559      3.349      0.733      0.465      -4.178       9.090\n",
       "delta_price_F    -2.0187      5.081     -0.397      0.692     -12.082       8.045\n",
       "delta_price_G   -17.4871      4.205     -4.159      0.000     -25.815      -9.159\n",
       "delta_price_H    13.7601      5.077      2.710      0.008       3.705      23.816\n",
       "==============================================================================\n",
       "Omnibus:                       29.438   Durbin-Watson:                   2.704\n",
       "Prob(Omnibus):                  0.000   Jarque-Bera (JB):               68.707\n",
       "Skew:                           0.920   Prob(JB):                     1.20e-15\n",
       "Kurtosis:                       6.131   Cond. No.                         969.\n",
       "==============================================================================\n",
       "\n",
       "Notes:\n",
       "[1] Standard Errors assume that the covariance matrix of the errors is correctly specified.\n",
       "\"\"\""
      ]
     },
     "execution_count": 95,
     "metadata": {},
     "output_type": "execute_result"
    }
   ],
   "source": [
    "m1 = smf.ols(formula = 'delta_price_X ~ delta_price_A + delta_price_B + delta_price_C + \\\n",
    "        delta_price_D + delta_price_E + delta_price_F + delta_price_G + delta_price_H', data = df_merge).fit()\n",
    "m1.summary()"
   ]
  },
  {
   "cell_type": "code",
   "execution_count": null,
   "id": "b0cee95e",
   "metadata": {},
   "outputs": [],
   "source": []
  }
 ],
 "metadata": {
  "kernelspec": {
   "display_name": "Python 3",
   "language": "python",
   "name": "python3"
  },
  "language_info": {
   "codemirror_mode": {
    "name": "ipython",
    "version": 3
   },
   "file_extension": ".py",
   "mimetype": "text/x-python",
   "name": "python",
   "nbconvert_exporter": "python",
   "pygments_lexer": "ipython3",
   "version": "3.8.0"
  }
 },
 "nbformat": 4,
 "nbformat_minor": 5
}
